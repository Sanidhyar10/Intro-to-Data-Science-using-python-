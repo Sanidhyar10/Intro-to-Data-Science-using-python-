{
  "nbformat": 4,
  "nbformat_minor": 0,
  "metadata": {
    "colab": {
      "provenance": [],
      "authorship_tag": "ABX9TyNYhkhgYvmblM4Xn687T+cW",
      "include_colab_link": true
    },
    "kernelspec": {
      "name": "python3",
      "display_name": "Python 3"
    },
    "language_info": {
      "name": "python"
    }
  },
  "cells": [
    {
      "cell_type": "markdown",
      "metadata": {
        "id": "view-in-github",
        "colab_type": "text"
      },
      "source": [
        "<a href=\"https://colab.research.google.com/github/Sanidhyar10/Intro-to-Data-Science-using-python-/blob/main/Clustering_IT2K21_56.ipynb\" target=\"_parent\"><img src=\"https://colab.research.google.com/assets/colab-badge.svg\" alt=\"Open In Colab\"/></a>"
      ]
    },
    {
      "cell_type": "markdown",
      "source": [
        "# 8: Clustering"
      ],
      "metadata": {
        "id": "7LQN2Iz5OwzV"
      }
    },
    {
      "cell_type": "markdown",
      "source": [
        "K-means clustering is a popular unsupervised machine learning algorithm used for partitioning a dataset into distinct groups or clusters based on the similarity of data points. The goal of the K-means algorithm is to assign each data point to one of K clusters in a way that minimizes the sum of squared distances between data points and the centroid of their assigned cluster.\n",
        "\n",
        "Here's a step-by-step explanation of how the K-means algorithm works:\n",
        "\n",
        "Initialization: Choose K initial cluster centroids randomly or using a specific initialization method.\n",
        "\n",
        "Assignment Step: Assign each data point to the nearest centroid. The distance metric commonly used is Euclidean distance, but other distance metrics can be employed.\n",
        "\n",
        "Update Step: Recalculate the centroids of the clusters based on the current assignment of data points.\n",
        "\n",
        "Repeat: Repeat steps 2 and 3 until convergence. Convergence occurs when the centroids no longer change significantly or when a specified number of iterations is reached.\n",
        "\n",
        "The choice of K (the number of clusters) is a crucial parameter in K-means clustering and is often determined using methods like the elbow method or silhouette analysis.\n",
        "\n",
        "K-means clustering has several applications, such as customer segmentation, image compression, anomaly detection, and more. It is an iterative algorithm that converges to a solution, and its efficiency makes it suitable for large datasets. However, K-means is sensitive to the initial choice of centroids and may converge to a local minimum, so multiple initializations or more advanced variants like K-means++ can be used to address this issue.\n",
        "\n"
      ],
      "metadata": {
        "id": "38fql7G2OY-c"
      }
    },
    {
      "cell_type": "markdown",
      "source": [
        "# 8.1 Demonstrate application of k‐MEANS CLUSTERING Using R/Python"
      ],
      "metadata": {
        "id": "GuycVaT0OpPB"
      }
    },
    {
      "cell_type": "code",
      "execution_count": null,
      "metadata": {
        "id": "tQbkoRwiOXjU"
      },
      "outputs": [],
      "source": [
        "import pandas as pd\n",
        "from sklearn.cluster import KMeans\n",
        "from sklearn.preprocessing import StandardScaler\n",
        "\n",
        "# Load the dataset (replace 'bank.csv' with the actual path to your dataset)\n",
        "bank_data = pd.read_csv('/content/bank.csv')\n",
        "\n",
        "# Select predictor variables (replace with your actual predictor variables)\n",
        "X = bank_data[[\"balance\", \"duration\"]]\n",
        "\n",
        "# Standardize the predictor variables using z-score transformation\n",
        "scaler = StandardScaler()\n",
        "Xz = pd.DataFrame(scaler.fit_transform(X), columns=[\"balance\", \"duration\"])\n",
        "\n",
        "# Run k-means clustering on the training data set\n",
        "kmeans_model = KMeans(n_clusters=2).fit(Xz)\n",
        "\n",
        "# Get cluster membership for each record\n",
        "cluster_membership = kmeans_model.labels_\n",
        "\n",
        "# Separate records into two groups based on cluster membership\n",
        "cluster1 = Xz.loc[cluster_membership == 0]\n",
        "cluster2 = Xz.loc[cluster_membership == 1]\n",
        "\n",
        "# Compute summary statistics for the two clusters\n",
        "print(\"Cluster 1 Summary Statistics:\")\n",
        "print(cluster1.describe())\n",
        "\n",
        "print(\"\\nCluster 2 Summary Statistics:\")\n",
        "print(cluster2.describe())"
      ]
    }
  ]
}