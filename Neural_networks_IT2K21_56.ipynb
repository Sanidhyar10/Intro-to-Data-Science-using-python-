{
  "nbformat": 4,
  "nbformat_minor": 0,
  "metadata": {
    "colab": {
      "provenance": [],
      "authorship_tag": "ABX9TyN99PNumcIEdqgnkU+KeMaV",
      "include_colab_link": true
    },
    "kernelspec": {
      "name": "python3",
      "display_name": "Python 3"
    },
    "language_info": {
      "name": "python"
    }
  },
  "cells": [
    {
      "cell_type": "markdown",
      "metadata": {
        "id": "view-in-github",
        "colab_type": "text"
      },
      "source": [
        "<a href=\"https://colab.research.google.com/github/Sanidhyar10/Intro-to-Data-Science-using-python-/blob/main/Neural_networks_IT2K21_56.ipynb\" target=\"_parent\"><img src=\"https://colab.research.google.com/assets/colab-badge.svg\" alt=\"Open In Colab\"/></a>"
      ]
    },
    {
      "cell_type": "markdown",
      "source": [
        "# 7: Neural Networks"
      ],
      "metadata": {
        "id": "tpqVSLbPN0OB"
      }
    },
    {
      "cell_type": "markdown",
      "source": [
        "In Python, you can use the scikit-learn library for neural networks and the pyrenn library to visualize the neural network plot. Make sure to install these libraries before proceeding:"
      ],
      "metadata": {
        "id": "5Sch38rhJeG9"
      }
    },
    {
      "cell_type": "code",
      "execution_count": 5,
      "metadata": {
        "colab": {
          "base_uri": "https://localhost:8080/"
        },
        "id": "RCD_FiveJaFd",
        "outputId": "75c429b2-1246-412f-eb36-2661e65f4339"
      },
      "outputs": [
        {
          "output_type": "stream",
          "name": "stdout",
          "text": [
            "Requirement already satisfied: scikit-learn in /usr/local/lib/python3.10/dist-packages (1.2.2)\n",
            "Requirement already satisfied: numpy>=1.17.3 in /usr/local/lib/python3.10/dist-packages (from scikit-learn) (1.23.5)\n",
            "Requirement already satisfied: scipy>=1.3.2 in /usr/local/lib/python3.10/dist-packages (from scikit-learn) (1.11.4)\n",
            "Requirement already satisfied: joblib>=1.1.1 in /usr/local/lib/python3.10/dist-packages (from scikit-learn) (1.3.2)\n",
            "Requirement already satisfied: threadpoolctl>=2.0.0 in /usr/local/lib/python3.10/dist-packages (from scikit-learn) (3.2.0)\n"
          ]
        }
      ],
      "source": [
        "pip install scikit-learn\n"
      ]
    },
    {
      "cell_type": "code",
      "source": [
        "!pip install pyrenn"
      ],
      "metadata": {
        "id": "d9BGXYB4JmMU",
        "colab": {
          "base_uri": "https://localhost:8080/"
        },
        "outputId": "541122f3-70cb-4046-d128-4f3980f799a1"
      },
      "execution_count": 4,
      "outputs": [
        {
          "output_type": "stream",
          "name": "stdout",
          "text": [
            "Collecting pyrenn\n",
            "  Downloading pyrenn-0.1.tar.gz (10 kB)\n",
            "  Preparing metadata (setup.py) ... \u001b[?25l\u001b[?25hdone\n",
            "Requirement already satisfied: numpy in /usr/local/lib/python3.10/dist-packages (from pyrenn) (1.23.5)\n",
            "Building wheels for collected packages: pyrenn\n",
            "  Building wheel for pyrenn (setup.py) ... \u001b[?25l\u001b[?25hdone\n",
            "  Created wheel for pyrenn: filename=pyrenn-0.1-py3-none-any.whl size=9237 sha256=8b0a47b473554aecbfe8ebbe4ff25cb5110064b87adabaf0b15df690e9c100ca\n",
            "  Stored in directory: /root/.cache/pip/wheels/88/73/cf/52f87ad9ea9e987087f5c2b03c8d33e837693325a2e0305736\n",
            "Successfully built pyrenn\n",
            "Installing collected packages: pyrenn\n",
            "Successfully installed pyrenn-0.1\n"
          ]
        }
      ]
    },
    {
      "cell_type": "code",
      "source": [
        "import pandas as pd\n",
        "from sklearn.preprocessing import MinMaxScaler\n",
        "from sklearn.neural_network import MLPClassifier\n",
        "import pyrenn\n",
        "\n",
        "# Load the dataset (replace 'bank.csv' with the actual path to your dataset)\n",
        "bank_data = pd.read_csv('/content/bank.csv')\n",
        "\n",
        "# Convert binary and ordinal variables to factors\n",
        "bank_data['deposit'] = bank_data['deposit'].map({'yes': 1, 'no': 0})\n",
        "bank_data['marital'] = pd.Categorical(bank_data['marital'])\n",
        "bank_data['education'] = pd.Categorical(bank_data['education'])\n",
        "bank_data['default'] = pd.Categorical(bank_data['default'])\n",
        "bank_data['housing'] = pd.Categorical(bank_data['housing'])\n",
        "bank_data['loan'] = pd.Categorical(bank_data['loan'])\n",
        "bank_data['contact'] = pd.Categorical(bank_data['contact'])\n",
        "bank_data['month'] = pd.Categorical(bank_data['month'])\n",
        "bank_data['poutcome'] = pd.Categorical(bank_data['poutcome'])\n",
        "\n",
        "# Perform min-max standardization on the Age variable\n",
        "bank_data['age_mm'] = (bank_data['age'] - bank_data['age'].min()) / (bank_data['age'].max() - bank_data['age'].min())\n",
        "\n",
        "# Select relevant columns\n",
        "selected_columns = [\"deposit\", \"marital\", \"education\", \"default\", \"housing\", \"loan\", \"contact\", \"month\", \"poutcome\", \"age_mm\"]\n",
        "\n",
        "# Create a DataFrame with selected columns\n",
        "fram_train = bank_data[selected_columns]\n",
        "\n",
        "# Convert categorical variables to dummy variables\n",
        "fram_train = pd.get_dummies(fram_train, columns=[\"marital\", \"education\", \"default\", \"housing\", \"loan\", \"contact\", \"month\", \"poutcome\"])\n",
        "\n",
        "# Split the data into predictor variables (X) and the target variable (y)\n",
        "X = fram_train.drop(\"deposit\", axis=1)\n",
        "y = fram_train[\"deposit\"]\n",
        "\n",
        "# Initialize the MinMaxScaler\n",
        "scaler = MinMaxScaler()\n",
        "\n",
        "# Scale the predictor variables\n",
        "X_scaled = scaler.fit_transform(X)\n",
        "\n",
        "# Run the neural network algorithm\n",
        "nnet01 = MLPClassifier(hidden_layer_sizes=(1,), max_iter=1000)\n",
        "nnet01.fit(X_scaled, y)\n",
        "\n",
        "# Plot the neural network\n",
        "import matplotlib.pyplot as plt\n",
        "import numpy as np\n",
        "\n",
        "# Assuming you have already trained the neural network (nnet01) using MLPClassifier\n",
        "\n",
        "# Extract weights and biases from the trained neural network\n",
        "weights = [coef.T for coef in nnet01.coefs_]\n",
        "biases = nnet01.intercepts_\n",
        "\n",
        "# Create a plot\n",
        "fig, ax = plt.subplots(figsize=(10, 8))\n",
        "\n",
        "# Draw edges (connections) between neurons\n",
        "for layer in range(1, len(weights)):\n",
        "    for i in range(len(weights[layer - 1])):\n",
        "        for j in range(len(weights[layer][0])):\n",
        "            # Limit alpha value to be within 0 to 1\n",
        "            alpha_value = min(max(abs(weights[layer - 1][i, j]), 0), 1)\n",
        "            ax.arrow(layer - 1, i, 1, j - i, color='black', linewidth=0.1, alpha=alpha_value)\n",
        "\n",
        "# Draw nodes (neurons)\n",
        "for layer in range(len(biases)):\n",
        "    for i in range(len(biases[layer])):\n",
        "        ax.scatter(layer, i, color='red', s=100)\n",
        "\n",
        "# Set labels and title\n",
        "ax.set_xticks(np.arange(len(weights) + 1))\n",
        "ax.set_xticklabels(['Input'] + [f'Hidden {i}' for i in range(1, len(weights))] + ['Output'])\n",
        "ax.set_yticks(np.arange(max([len(bias) for bias in biases])))\n",
        "ax.set_yticklabels([f'Neuron {i}' for i in range(max([len(bias) for bias in biases]))])\n",
        "ax.set_title('Neural Network Architecture')\n",
        "\n",
        "plt.show()\n"
      ],
      "metadata": {
        "id": "U_-MMSWXJ2bU",
        "colab": {
          "base_uri": "https://localhost:8080/",
          "height": 699
        },
        "outputId": "c5d636d7-dd7b-4c26-de95-f99a9391c45c"
      },
      "execution_count": 7,
      "outputs": [
        {
          "output_type": "display_data",
          "data": {
            "text/plain": [
              "<Figure size 1000x800 with 1 Axes>"
            ],
            "image/png": "[encoded data removed]"
          },
          "metadata": {}
        }
      ]
    }
  ]
}