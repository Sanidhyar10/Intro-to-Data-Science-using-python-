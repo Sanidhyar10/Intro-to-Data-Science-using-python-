{
  "nbformat": 4,
  "nbformat_minor": 0,
  "metadata": {
    "colab": {
      "provenance": [],
      "authorship_tag": "ABX9TyNqNCoRmIPT2NzfzBeMptbp",
      "include_colab_link": true
    },
    "kernelspec": {
      "name": "python3",
      "display_name": "Python 3"
    },
    "language_info": {
      "name": "python"
    }
  },
  "cells": [
    {
      "cell_type": "markdown",
      "metadata": {
        "id": "view-in-github",
        "colab_type": "text"
      },
      "source": [
        "<a href=\"https://colab.research.google.com/github/Sanidhyar10/Intro-to-Data-Science-using-python-/blob/main/Association_rules_IT2K21_56.ipynb\" target=\"_parent\"><img src=\"https://colab.research.google.com/assets/colab-badge.svg\" alt=\"Open In Colab\"/></a>"
      ]
    },
    {
      "cell_type": "markdown",
      "source": [
        "# 12: Association Rules"
      ],
      "metadata": {
        "id": "kBj9DWkCX1J-"
      }
    },
    {
      "cell_type": "markdown",
      "source": [
        "Association rules are patterns or relationships identified in datasets that highlight the associations or connections between different variables or items. These rules are commonly used in data mining, machine learning, and business intelligence to discover interesting and meaningful connections within large sets of data.\n",
        "\n",
        "In the context of association rule mining, a dataset typically consists of transactions, where each transaction contains a set of items. The goal is to identify rules that indicate the likelihood of certain items appearing together in transactions. These rules are usually expressed in the form of \"if X, then Y,\" where X and Y are sets of items.\n",
        "\n",
        "There are two fundamental metrics used to evaluate association rules:\n",
        "\n",
        "Support (Sup): It measures the frequency of occurrence of a set of items in the dataset. High support indicates that the itemset is common in the dataset.\n",
        "\n",
        "Confidence (Conf): It measures the reliability or strength of the association between two sets of items. High confidence suggests that the presence of one item implies the presence of another.\n",
        "\n",
        "Additionally, there are other metrics like lift, conviction, and leverage that provide further insights into the relationships between items.\n",
        "\n",
        "Association rule mining is commonly used in various applications, such as market basket analysis, where retailers aim to understand purchasing patterns, and recommendation systems, where the goal is to suggest items based on users' past behaviors.\n",
        "\n",
        "Popular algorithms for association rule mining include Apriori, Eclat, and FP-growth. These algorithms efficiently discover frequent itemsets and generate association rules from large datasets."
      ],
      "metadata": {
        "id": "OlJJADFXW7Wk"
      }
    },
    {
      "cell_type": "code",
      "source": [
        "!pip install apyori"
      ],
      "metadata": {
        "id": "gM4Rh6AeXxiO"
      },
      "execution_count": null,
      "outputs": []
    },
    {
      "cell_type": "markdown",
      "source": [
        "# 12.1 How to Mine Association Rules Using Python"
      ],
      "metadata": {
        "id": "EXI81IECXj4N"
      }
    },
    {
      "cell_type": "code",
      "source": [
        "import pandas as pd\n",
        "from apyori import apriori\n",
        "\n",
        "# Load the bank dataset (replace 'bank.csv' with the actual path to your dataset)\n",
        "bank_data = pd.read_csv('/content/bank.csv')\n",
        "\n",
        "# Subset the data to include only the relevant columns\n",
        "min_bank = bank_data[[\"job\", \"marital\", \"education\", \"default\", \"housing\", \"loan\", \"contact\", \"poutcome\", \"deposit\"]]\n",
        "\n",
        "# Print column names to check for correctness\n",
        "print(min_bank.columns)\n",
        "\n",
        "# Convert categorical variables to string for apyori\n",
        "min_bank = min_bank.astype(str)\n",
        "\n",
        "# Check if \"CustServ Calls\" is in the column names\n",
        "if \"CustServ Calls\" in min_bank.columns:\n",
        "    # Convert Customer Service Calls to a factor\n",
        "    min_bank['CustServ Calls'] = pd.Categorical(min_bank['CustServ Calls'], ordered=True)\n",
        "\n",
        "    # Obtain baseline distribution information\n",
        "    baseline_tables = []\n",
        "    for column in min_bank.columns:\n",
        "        t = pd.crosstab(min_bank[column], margins=True, margins_name=\"Total\", normalize=\"index\")\n",
        "        baseline_tables.append(t)\n",
        "\n",
        "    # Install and load the apyori package (if not already installed)\n",
        "    # !pip install apyori\n",
        "    from apyori import apriori\n",
        "\n",
        "    # Flatten the tables for apyori\n",
        "    transactions = []\n",
        "    for t in baseline_tables:\n",
        "        transactions.append([(str(item),) for item in t.index if item != \"Total\"])\n",
        "\n",
        "    # Run apriori algorithm\n",
        "    rules = apriori(transactions, min_support=0.01, min_confidence=0.4, min_lift=1, min_length=2)\n",
        "\n",
        "    # Convert apyori results to a dataframe for further analysis\n",
        "    rules_df = pd.DataFrame(list(rules))\n",
        "\n",
        "    # Filter out rules containing 'deposit' in antecedent\n",
        "    filtered_rules_df = rules_df[~rules_df['items'].astype(str).str.contains(\"deposit\")]\n",
        "\n",
        "    # Display the top 10 rules sorted by lift\n",
        "    top_rules = filtered_rules_df.sort_values(by='lift', ascending=False).head(10)\n",
        "    print(top_rules)\n",
        "else:\n",
        "    print(\"Column 'CustServ Calls' not found in the dataset.\")\n"
      ],
      "metadata": {
        "id": "fAXN9TV9XhhI"
      },
      "execution_count": null,
      "outputs": []
    },
    {
      "cell_type": "markdown",
      "source": [
        "# 12.2 How to Apply the Confidence Difference Criterion Using Python"
      ],
      "metadata": {
        "id": "t2epYpOmXZWC"
      }
    },
    {
      "cell_type": "code",
      "source": [
        "import pandas as pd\n",
        "from apyori import apriori\n",
        "\n",
        "# Load the bank dataset (replace 'bank.csv' with the actual path to your dataset)\n",
        "bank_data = pd.read_csv('/content/bank.csv')\n",
        "\n",
        "# Subset the data to include only the relevant columns\n",
        "min_bank = bank_data[[\"job\", \"marital\", \"education\", \"default\", \"housing\", \"loan\", \"contact\", \"poutcome\", \"deposit\"]]\n",
        "\n",
        "# Convert categorical variables to string for apyori\n",
        "min_bank = min_bank.astype(str)\n",
        "\n",
        "# Flatten the tables for apyori\n",
        "transactions = []\n",
        "for column in min_bank.columns:\n",
        "    transactions.append([(str(item),) for item in pd.unique(min_bank[column])])\n",
        "\n",
        "# Run apriori algorithm with confidence difference criterion\n",
        "rules_confdiff = apriori(transactions, min_support=0.01, min_confidence=0.4, min_lift=1, min_length=2)\n",
        "\n",
        "# Display all rules before filtering\n",
        "for rule in rules_confdiff:\n",
        "    print(rule)\n",
        "\n",
        "# Filter rules based on confidence difference criterion\n",
        "confidence_difference_threshold = 0.1  # Set your desired confidence difference threshold\n",
        "filtered_rules_confdiff = [\n",
        "    rule for rule in rules_confdiff\n",
        "    if any(\n",
        "        abs(stat.confidence - rule.ordered_statistics[i].confidence) >= confidence_difference_threshold\n",
        "        for i, stat in enumerate(rule.ordered_statistics)\n",
        "    )\n",
        "]\n",
        "\n",
        "# Display the filtered rules\n",
        "for rule in filtered_rules_confdiff[:10]:\n",
        "    print(rule)\n"
      ],
      "metadata": {
        "id": "OOF65gZkXT3a"
      },
      "execution_count": null,
      "outputs": []
    },
    {
      "cell_type": "markdown",
      "source": [
        "# 12.3 How to Apply the Confidence Quotient Criterion Using Python"
      ],
      "metadata": {
        "id": "w9F_1Z2vXGmi"
      }
    },
    {
      "cell_type": "code",
      "execution_count": null,
      "metadata": {
        "id": "CrR413w2W4aU"
      },
      "outputs": [],
      "source": [
        "import pandas as pd\n",
        "from apyori import apriori\n",
        "\n",
        "# Load the bank dataset (replace 'bank.csv' with the actual path to your dataset)\n",
        "bank_data = pd.read_csv('/content/bank.csv')\n",
        "\n",
        "# Subset the data to include only the relevant columns\n",
        "min_bank = bank_data[[\"job\", \"marital\", \"education\", \"default\", \"housing\", \"loan\", \"contact\", \"poutcome\", \"deposit\"]]\n",
        "\n",
        "# Convert categorical variables to string for apyori\n",
        "min_bank = min_bank.astype(str)\n",
        "\n",
        "# Flatten the tables for apyori\n",
        "transactions = []\n",
        "for column in min_bank.columns:\n",
        "    transactions.append([(str(item),) for item in pd.unique(min_bank[column])])\n",
        "\n",
        "# Run apriori algorithm with Confidence Quotient criterion\n",
        "rules_confquot = apriori(transactions, min_support=0.01, min_confidence=0.05, min_lift=1, min_length=2, max_length=2,\n",
        "                        arem=\"quot\", aval=True, minval=0.4, target=\"rules\")\n",
        "\n",
        "# Convert apyori results to a dataframe for further analysis\n",
        "rules_confquot_df = pd.DataFrame(list(rules_confquot))\n",
        "\n",
        "# Filter out rules containing 'deposit' in antecedent\n",
        "filtered_rules_confquot_df = rules_confquot_df[~rules_confquot_df['items'].astype(str).str.contains(\"deposit\")]\n",
        "\n",
        "# Display the rules\n",
        "print(filtered_rules_confquot_df)"
      ]
    }
  ]
}