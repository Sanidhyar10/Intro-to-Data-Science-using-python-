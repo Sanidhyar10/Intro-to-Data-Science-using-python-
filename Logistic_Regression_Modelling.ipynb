{
  "nbformat": 4,
  "nbformat_minor": 0,
  "metadata": {
    "colab": {
      "provenance": [],
      "include_colab_link": true
    },
    "kernelspec": {
      "name": "python3",
      "display_name": "Python 3"
    },
    "language_info": {
      "name": "python"
    }
  },
  "cells": [
    {
      "cell_type": "markdown",
      "metadata": {
        "id": "view-in-github",
        "colab_type": "text"
      },
      "source": [
        "<a href=\"https://colab.research.google.com/github/Sanidhyar10/Intro-to-Data-Science-using-python-/blob/main/Logistic_Regression_Modelling.ipynb\" target=\"_parent\"><img src=\"https://colab.research.google.com/assets/colab-badge.svg\" alt=\"Open In Colab\"/></a>"
      ]
    },
    {
      "cell_type": "markdown",
      "source": [
        "#11: Logistic Regression Modelling\n",
        "\n",
        "Logistic Regression is a statistical method used for predicting the probability of an event with two possible outcomes. It's commonly used in binary classification problems, where the goal is to determine which category an observation belongs to. The logistic function is employed to model the relationship between input features and the probability of the positive outcome. The model provides a probability score that can be interpreted and used for making binary decisions."
      ],
      "metadata": {
        "id": "BaQS21uG-Flb"
      }
    },
    {
      "cell_type": "markdown",
      "source": [
        "## 11.1 How to Perform Logistic Regression Using Python\n",
        "\n"
      ],
      "metadata": {
        "id": "GHCyr1UM-IZP"
      }
    },
    {
      "cell_type": "code",
      "source": [
        "import pandas as pd\n",
        "import numpy as np\n",
        "import statsmodels.api as sm\n",
        "from sklearn.model_selection import train_test_split\n",
        "\n",
        "# Load the bank dataset (replace 'bank.csv' with the actual path to your dataset)\n",
        "bank_data = pd.read_csv('/content/bank.csv')\n",
        "\n",
        "# For simplicity, separate the variables into predictor variables X and response variable y\n",
        "X = pd.DataFrame(bank_data[['duration', 'pdays']])\n",
        "X = sm.add_constant(X)\n",
        "y = bank_data['deposit'].map({'yes': 1, 'no': 0})  # Convert 'deposit' to binary\n",
        "\n",
        "# Split the data into training and test sets\n",
        "X_train, X_test, y_train, y_test = train_test_split(X, y, test_size=0.2, random_state=42)\n",
        "\n",
        "# Perform logistic regression on the training set\n",
        "logreg_bank = sm.Logit(y_train, X_train).fit()\n",
        "\n",
        "# View the model results for the training set\n",
        "logreg_bank.summary2()\n",
        "\n",
        "# Create a synthetic test dataset\n",
        "np.random.seed(42)  # For reproducibility\n",
        "num_samples = 1000\n",
        "\n",
        "test_data = {\n",
        "    'duration': np.random.randint(1, 100, num_samples),\n",
        "    'pdays': np.random.randint(1, 30, num_samples),\n",
        "}\n",
        "\n",
        "test_df = pd.DataFrame(test_data)\n",
        "\n",
        "# Add a constant to the test dataset\n",
        "X_test_synthetic = sm.add_constant(test_df)\n",
        "\n",
        "# Predict using the logistic regression model\n",
        "y_pred_synthetic = logreg_bank.predict(X_test_synthetic)\n",
        "\n",
        "# Convert predicted probabilities to binary predictions\n",
        "y_pred_binary_synthetic = (y_pred_synthetic >= 0.5).astype(int)\n",
        "\n",
        "# View the predictions\n",
        "synthetic_predictions = pd.DataFrame({'Predicted Probability': y_pred_synthetic, 'Predicted Binary': y_pred_binary_synthetic})\n",
        "print(synthetic_predictions)\n"
      ],
      "metadata": {
        "colab": {
          "base_uri": "https://localhost:8080/"
        },
        "id": "hZZx518K_9eX",
        "outputId": "08f3617e-4a97-412b-bc10-70ff63d54f71"
      },
      "execution_count": null,
      "outputs": [
        {
          "output_type": "stream",
          "name": "stdout",
          "text": [
            "Optimization terminated successfully.\n",
            "         Current function value: 0.540955\n",
            "         Iterations 6\n",
            "     Predicted Probability  Predicted Binary\n",
            "0                 0.170975                 0\n",
            "1                 0.214509                 0\n",
            "2                 0.159231                 0\n",
            "3                 0.198858                 0\n",
            "4                 0.182978                 0\n",
            "..                     ...               ...\n",
            "995               0.170948                 0\n",
            "996               0.164001                 0\n",
            "997               0.156300                 0\n",
            "998               0.172047                 0\n",
            "999               0.162416                 0\n",
            "\n",
            "[1000 rows x 2 columns]\n"
          ]
        }
      ]
    },
    {
      "cell_type": "markdown",
      "source": [
        "## 11.2 How to Perform Poisson Regression Using Python"
      ],
      "metadata": {
        "id": "at07Omqd-MN_"
      }
    },
    {
      "cell_type": "code",
      "source": [
        "import pandas as pd\n",
        "import numpy as np\n",
        "import statsmodels.api as sm\n",
        "\n",
        "# Load the bank dataset (replace 'bank.csv' with the actual path to your dataset)\n",
        "bank_data = pd.read_csv('/content/bank.csv')\n",
        "\n",
        "# For simplicity, let's use the 'previous' variable as the predictor and 'duration' as the response\n",
        "X = pd.DataFrame(bank_data[['previous']])\n",
        "X = sm.add_constant(X)\n",
        "y = pd.DataFrame(bank_data['duration'])  # Assuming 'duration' is the response variable\n",
        "\n",
        "# Convert categorical variable 'deposit' to binary\n",
        "y_binary = (y > y.median()).astype(int)\n",
        "\n",
        "# Run Poisson regression using GLM\n",
        "poisreg_bank = sm.GLM(y_binary, X, family=sm.families.Poisson()).fit()\n",
        "\n",
        "# View the model results\n",
        "poisreg_bank.summary()\n"
      ],
      "metadata": {
        "colab": {
          "base_uri": "https://localhost:8080/",
          "height": 289
        },
        "id": "TJ3_0Bp7-PdZ",
        "outputId": "090ab267-db0c-429a-fa65-50fe6f402abb"
      },
      "execution_count": null,
      "outputs": [
        {
          "output_type": "execute_result",
          "data": {
            "text/plain": [
              "<class 'statsmodels.iolib.summary.Summary'>\n",
              "\"\"\"\n",
              "                 Generalized Linear Model Regression Results                  \n",
              "==============================================================================\n",
              "Dep. Variable:               duration   No. Observations:                11162\n",
              "Model:                            GLM   Df Residuals:                    11160\n",
              "Model Family:                 Poisson   Df Model:                            1\n",
              "Link Function:                    Log   Scale:                          1.0000\n",
              "Method:                          IRLS   Log-Likelihood:                -9441.3\n",
              "Date:                Tue, 05 Dec 2023   Deviance:                       7742.5\n",
              "Time:                        18:38:24   Pearson chi2:                 5.59e+03\n",
              "No. Iterations:                     5   Pseudo R-squ. (CS):          9.762e-05\n",
              "Covariance Type:            nonrobust                                         \n",
              "==============================================================================\n",
              "                 coef    std err          z      P>|z|      [0.025      0.975]\n",
              "------------------------------------------------------------------------------\n",
              "const         -0.7001      0.014    -49.189      0.000      -0.728      -0.672\n",
              "previous       0.0059      0.006      1.062      0.288      -0.005       0.017\n",
              "==============================================================================\n",
              "\"\"\""
            ],
            "text/html": [
              "<table class=\"simpletable\">\n",
              "<caption>Generalized Linear Model Regression Results</caption>\n",
              "<tr>\n",
              "  <th>Dep. Variable:</th>       <td>duration</td>     <th>  No. Observations:  </th>  <td> 11162</td>  \n",
              "</tr>\n",
              "<tr>\n",
              "  <th>Model:</th>                  <td>GLM</td>       <th>  Df Residuals:      </th>  <td> 11160</td>  \n",
              "</tr>\n",
              "<tr>\n",
              "  <th>Model Family:</th>         <td>Poisson</td>     <th>  Df Model:          </th>  <td>     1</td>  \n",
              "</tr>\n",
              "<tr>\n",
              "  <th>Link Function:</th>          <td>Log</td>       <th>  Scale:             </th> <td>  1.0000</td> \n",
              "</tr>\n",
              "<tr>\n",
              "  <th>Method:</th>                <td>IRLS</td>       <th>  Log-Likelihood:    </th> <td> -9441.3</td> \n",
              "</tr>\n",
              "<tr>\n",
              "  <th>Date:</th>            <td>Tue, 05 Dec 2023</td> <th>  Deviance:          </th> <td>  7742.5</td> \n",
              "</tr>\n",
              "<tr>\n",
              "  <th>Time:</th>                <td>18:38:24</td>     <th>  Pearson chi2:      </th> <td>5.59e+03</td> \n",
              "</tr>\n",
              "<tr>\n",
              "  <th>No. Iterations:</th>          <td>5</td>        <th>  Pseudo R-squ. (CS):</th> <td>9.762e-05</td>\n",
              "</tr>\n",
              "<tr>\n",
              "  <th>Covariance Type:</th>     <td>nonrobust</td>    <th>                     </th>     <td> </td>    \n",
              "</tr>\n",
              "</table>\n",
              "<table class=\"simpletable\">\n",
              "<tr>\n",
              "      <td></td>        <th>coef</th>     <th>std err</th>      <th>z</th>      <th>P>|z|</th>  <th>[0.025</th>    <th>0.975]</th>  \n",
              "</tr>\n",
              "<tr>\n",
              "  <th>const</th>    <td>   -0.7001</td> <td>    0.014</td> <td>  -49.189</td> <td> 0.000</td> <td>   -0.728</td> <td>   -0.672</td>\n",
              "</tr>\n",
              "<tr>\n",
              "  <th>previous</th> <td>    0.0059</td> <td>    0.006</td> <td>    1.062</td> <td> 0.288</td> <td>   -0.005</td> <td>    0.017</td>\n",
              "</tr>\n",
              "</table>"
            ],
            "text/latex": "\\begin{center}\n\\begin{tabular}{lclc}\n\\toprule\n\\textbf{Dep. Variable:}   &     duration     & \\textbf{  No. Observations:  } &    11162    \\\\\n\\textbf{Model:}           &       GLM        & \\textbf{  Df Residuals:      } &    11160    \\\\\n\\textbf{Model Family:}    &     Poisson      & \\textbf{  Df Model:          } &        1    \\\\\n\\textbf{Link Function:}   &       Log        & \\textbf{  Scale:             } &    1.0000   \\\\\n\\textbf{Method:}          &       IRLS       & \\textbf{  Log-Likelihood:    } &   -9441.3   \\\\\n\\textbf{Date:}            & Tue, 05 Dec 2023 & \\textbf{  Deviance:          } &    7742.5   \\\\\n\\textbf{Time:}            &     18:38:24     & \\textbf{  Pearson chi2:      } &  5.59e+03   \\\\\n\\textbf{No. Iterations:}  &        5         & \\textbf{  Pseudo R-squ. (CS):} & 9.762e-05   \\\\\n\\textbf{Covariance Type:} &    nonrobust     & \\textbf{                     } &             \\\\\n\\bottomrule\n\\end{tabular}\n\\begin{tabular}{lcccccc}\n                  & \\textbf{coef} & \\textbf{std err} & \\textbf{z} & \\textbf{P$> |$z$|$} & \\textbf{[0.025} & \\textbf{0.975]}  \\\\\n\\midrule\n\\textbf{const}    &      -0.7001  &        0.014     &   -49.189  &         0.000        &       -0.728    &       -0.672     \\\\\n\\textbf{previous} &       0.0059  &        0.006     &     1.062  &         0.288        &       -0.005    &        0.017     \\\\\n\\bottomrule\n\\end{tabular}\n%\\caption{Generalized Linear Model Regression Results}\n\\end{center}"
          },
          "metadata": {},
          "execution_count": 5
        }
      ]
    }
  ]
}